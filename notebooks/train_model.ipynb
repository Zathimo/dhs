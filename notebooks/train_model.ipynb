{
 "cells": [
  {
   "cell_type": "code",
   "execution_count": null,
   "id": "seven-lightweight",
   "metadata": {},
   "outputs": [],
   "source": [
    "import os\n",
    "\n",
    "import pandas as pd\n",
    "from keras.preprocessing import image\n",
    "from imagenet_utils import preprocess_input, decode_predictions\n",
    "from keras.layers.convolutional import Convolution2D, AveragePooling2D\n",
    "from keras.optimizers import SGD\n",
    "from keras.layers.core import Activation, Flatten, Dense\n",
    "from keras.layers import Dropout\n",
    "from keras.models import Model, Sequential"
   ]
  },
  {
   "cell_type": "markdown",
   "id": "average-clearing",
   "metadata": {},
   "source": [
    "### Prepare DHS wealth index survey file\n",
    "\n",
    "#### Input:\n",
    "- `<country>_cluster_wealth.csv`\n",
    "- this file should already have been created by running `process_dhs.py`\n",
    "\n",
    "#### Output:\n",
    "1. calculate the wealth category min and max to use as bucket boundaries\n",
    "2. calculate per cluster mean wealth index\n",
    "3. append cluster category to per cluster mean welath index\n",
    "4. write file to disk: `<country>_cluster_wealth_grouped.csv`"
   ]
  },
  {
   "cell_type": "code",
   "execution_count": 41,
   "id": "about-ladder",
   "metadata": {},
   "outputs": [],
   "source": [
    "country = 'burindi'"
   ]
  },
  {
   "cell_type": "code",
   "execution_count": 42,
   "id": "tutorial-advice",
   "metadata": {},
   "outputs": [],
   "source": [
    "dhs_wealth_file = f'{country}_cluster_wealth.csv'"
   ]
  },
  {
   "cell_type": "code",
   "execution_count": 43,
   "id": "prepared-population",
   "metadata": {},
   "outputs": [],
   "source": [
    "dhs_wealth_dir = os.path.join(os.path.expanduser('~'),\n",
    "                              'workspace/dhs-landsat-poverty-prediction/data',\n",
    "                              country,\n",
    "                              'dhs')"
   ]
  },
  {
   "cell_type": "code",
   "execution_count": 44,
   "id": "spatial-george",
   "metadata": {},
   "outputs": [],
   "source": [
    "dhs_df = dhs_df = pd.read_csv(os.path.join(dhs_wealth_dir, dhs_wealth_file))"
   ]
  },
  {
   "cell_type": "markdown",
   "id": "classical-stupid",
   "metadata": {},
   "source": [
    "#### 1. calculate the wealth category min and max to use as bucket boundaries"
   ]
  },
  {
   "cell_type": "code",
   "execution_count": 45,
   "id": "decreased-portland",
   "metadata": {},
   "outputs": [
    {
     "data": {
      "text/html": [
       "<div>\n",
       "<style scoped>\n",
       "    .dataframe tbody tr th:only-of-type {\n",
       "        vertical-align: middle;\n",
       "    }\n",
       "\n",
       "    .dataframe tbody tr th {\n",
       "        vertical-align: top;\n",
       "    }\n",
       "\n",
       "    .dataframe thead tr th {\n",
       "        text-align: left;\n",
       "    }\n",
       "\n",
       "    .dataframe thead tr:last-of-type th {\n",
       "        text-align: right;\n",
       "    }\n",
       "</style>\n",
       "<table border=\"1\" class=\"dataframe\">\n",
       "  <thead>\n",
       "    <tr>\n",
       "      <th></th>\n",
       "      <th colspan=\"3\" halign=\"left\">wealth_index</th>\n",
       "    </tr>\n",
       "    <tr>\n",
       "      <th></th>\n",
       "      <th>mean</th>\n",
       "      <th>min</th>\n",
       "      <th>max</th>\n",
       "    </tr>\n",
       "    <tr>\n",
       "      <th>wealth_category</th>\n",
       "      <th></th>\n",
       "      <th></th>\n",
       "      <th></th>\n",
       "    </tr>\n",
       "  </thead>\n",
       "  <tbody>\n",
       "    <tr>\n",
       "      <th>1</th>\n",
       "      <td>-0.801418</td>\n",
       "      <td>-1.38394</td>\n",
       "      <td>-0.66107</td>\n",
       "    </tr>\n",
       "    <tr>\n",
       "      <th>2</th>\n",
       "      <td>-0.562124</td>\n",
       "      <td>-0.66106</td>\n",
       "      <td>-0.45802</td>\n",
       "    </tr>\n",
       "    <tr>\n",
       "      <th>3</th>\n",
       "      <td>-0.352430</td>\n",
       "      <td>-0.45800</td>\n",
       "      <td>-0.22984</td>\n",
       "    </tr>\n",
       "    <tr>\n",
       "      <th>4</th>\n",
       "      <td>-0.022235</td>\n",
       "      <td>-0.22979</td>\n",
       "      <td>0.29348</td>\n",
       "    </tr>\n",
       "    <tr>\n",
       "      <th>5</th>\n",
       "      <td>1.539051</td>\n",
       "      <td>0.29412</td>\n",
       "      <td>4.32413</td>\n",
       "    </tr>\n",
       "  </tbody>\n",
       "</table>\n",
       "</div>"
      ],
      "text/plain": [
       "                wealth_index                  \n",
       "                        mean      min      max\n",
       "wealth_category                               \n",
       "1                  -0.801418 -1.38394 -0.66107\n",
       "2                  -0.562124 -0.66106 -0.45802\n",
       "3                  -0.352430 -0.45800 -0.22984\n",
       "4                  -0.022235 -0.22979  0.29348\n",
       "5                   1.539051  0.29412  4.32413"
      ]
     },
     "execution_count": 45,
     "metadata": {},
     "output_type": "execute_result"
    }
   ],
   "source": [
    "dhs_df[['wealth_category', 'wealth_index']].groupby('wealth_category').agg({'wealth_index': ['mean', 'min', 'max']})"
   ]
  },
  {
   "cell_type": "code",
   "execution_count": 46,
   "id": "verified-pipeline",
   "metadata": {},
   "outputs": [],
   "source": [
    "wealth_index_buckets = [-1.38394, -0.66107, -0.45802, 0.22984, 0.29348, 4.32413]"
   ]
  },
  {
   "cell_type": "markdown",
   "id": "offensive-unknown",
   "metadata": {},
   "source": [
    "#### 2. calculate per cluster mean wealth index"
   ]
  },
  {
   "cell_type": "code",
   "execution_count": 47,
   "id": "remarkable-yellow",
   "metadata": {},
   "outputs": [],
   "source": [
    "dhs_df_mean = dhs_df[['cluster_id', 'wealth_index']].groupby('cluster_id').mean().reset_index()"
   ]
  },
  {
   "cell_type": "code",
   "execution_count": 48,
   "id": "executive-duncan",
   "metadata": {},
   "outputs": [
    {
     "data": {
      "text/html": [
       "<div>\n",
       "<style scoped>\n",
       "    .dataframe tbody tr th:only-of-type {\n",
       "        vertical-align: middle;\n",
       "    }\n",
       "\n",
       "    .dataframe tbody tr th {\n",
       "        vertical-align: top;\n",
       "    }\n",
       "\n",
       "    .dataframe thead th {\n",
       "        text-align: right;\n",
       "    }\n",
       "</style>\n",
       "<table border=\"1\" class=\"dataframe\">\n",
       "  <thead>\n",
       "    <tr style=\"text-align: right;\">\n",
       "      <th></th>\n",
       "      <th>cluster_id</th>\n",
       "      <th>wealth_index</th>\n",
       "    </tr>\n",
       "  </thead>\n",
       "  <tbody>\n",
       "    <tr>\n",
       "      <th>0</th>\n",
       "      <td>1</td>\n",
       "      <td>-0.462795</td>\n",
       "    </tr>\n",
       "    <tr>\n",
       "      <th>1</th>\n",
       "      <td>2</td>\n",
       "      <td>-0.523744</td>\n",
       "    </tr>\n",
       "    <tr>\n",
       "      <th>2</th>\n",
       "      <td>3</td>\n",
       "      <td>0.390402</td>\n",
       "    </tr>\n",
       "    <tr>\n",
       "      <th>3</th>\n",
       "      <td>4</td>\n",
       "      <td>-0.670847</td>\n",
       "    </tr>\n",
       "    <tr>\n",
       "      <th>4</th>\n",
       "      <td>5</td>\n",
       "      <td>2.065443</td>\n",
       "    </tr>\n",
       "  </tbody>\n",
       "</table>\n",
       "</div>"
      ],
      "text/plain": [
       "   cluster_id  wealth_index\n",
       "0           1     -0.462795\n",
       "1           2     -0.523744\n",
       "2           3      0.390402\n",
       "3           4     -0.670847\n",
       "4           5      2.065443"
      ]
     },
     "execution_count": 48,
     "metadata": {},
     "output_type": "execute_result"
    }
   ],
   "source": [
    "dhs_df_mean.head()"
   ]
  },
  {
   "cell_type": "markdown",
   "id": "artificial-mountain",
   "metadata": {},
   "source": [
    "#### 3. append cluster category to per cluster mean welath index"
   ]
  },
  {
   "cell_type": "code",
   "execution_count": 37,
   "id": "forty-foster",
   "metadata": {},
   "outputs": [],
   "source": [
    "dhs_df_mean['wealth_category'] = (pd.cut(dhs_df_mean['wealth_index'], \n",
    "                                         bins=wealth_index_buckets,\n",
    "                                         labels=['1', '2', '3', '4', '5']))"
   ]
  },
  {
   "cell_type": "code",
   "execution_count": 39,
   "id": "uniform-monitor",
   "metadata": {},
   "outputs": [],
   "source": [
    "dhs_df_mean.to_csv(os.path.join(dhs_wealth_dir, f'{country}_cluster_wealth_grouped.csv'), index=False)"
   ]
  },
  {
   "cell_type": "markdown",
   "id": "japanese-jefferson",
   "metadata": {},
   "source": [
    "### Build a model\n",
    "\n",
    "#### Input:\n",
    "\n",
    "\n",
    "#### Output:"
   ]
  },
  {
   "cell_type": "code",
   "execution_count": 51,
   "id": "apart-hampton",
   "metadata": {},
   "outputs": [],
   "source": [
    "tif_dir = os.path.join(os.path.expanduser('~'), \n",
    "                       'workspace/dhs-landsat-poverty-prediction/data',\n",
    "                       country,\n",
    "                       'landsat_tif')"
   ]
  },
  {
   "cell_type": "code",
   "execution_count": 52,
   "id": "accepted-container",
   "metadata": {},
   "outputs": [],
   "source": [
    "daylight_dir = os.path.join(os.path.expanduser('~'),\n",
    "                            'workspace/dhs-landsat-poverty-prediction/data',\n",
    "                            country,\n",
    "                            'landsat_daylight')"
   ]
  },
  {
   "cell_type": "code",
   "execution_count": 53,
   "id": "gothic-shape",
   "metadata": {},
   "outputs": [
    {
     "ename": "NameError",
     "evalue": "name 'Sequential' is not defined",
     "output_type": "error",
     "traceback": [
      "\u001b[0;31m---------------------------------------------------------------------------\u001b[0m",
      "\u001b[0;31mNameError\u001b[0m                                 Traceback (most recent call last)",
      "\u001b[0;32m<ipython-input-53-7298822b434d>\u001b[0m in \u001b[0;36m<module>\u001b[0;34m\u001b[0m\n\u001b[0;32m----> 1\u001b[0;31m \u001b[0mmodel\u001b[0m \u001b[0;34m=\u001b[0m \u001b[0mSequential\u001b[0m\u001b[0;34m(\u001b[0m\u001b[0;34m)\u001b[0m\u001b[0;34m\u001b[0m\u001b[0;34m\u001b[0m\u001b[0m\n\u001b[0m\u001b[1;32m      2\u001b[0m \u001b[0mmodel\u001b[0m\u001b[0;34m.\u001b[0m\u001b[0madd\u001b[0m\u001b[0;34m(\u001b[0m\u001b[0mConvolution2D\u001b[0m\u001b[0;34m(\u001b[0m\u001b[0;36m64\u001b[0m\u001b[0;34m,\u001b[0m \u001b[0;36m6\u001b[0m\u001b[0;34m,\u001b[0m \u001b[0;36m6\u001b[0m\u001b[0;34m,\u001b[0m \u001b[0mactivation\u001b[0m\u001b[0;34m=\u001b[0m\u001b[0;34m'relu'\u001b[0m\u001b[0;34m,\u001b[0m \u001b[0minput_shape\u001b[0m\u001b[0;34m=\u001b[0m\u001b[0;34m(\u001b[0m\u001b[0;36m12\u001b[0m\u001b[0;34m,\u001b[0m \u001b[0;36m12\u001b[0m\u001b[0;34m,\u001b[0m \u001b[0;36m512\u001b[0m\u001b[0;34m)\u001b[0m\u001b[0;34m,\u001b[0m \u001b[0msubsample\u001b[0m\u001b[0;34m=\u001b[0m\u001b[0;34m(\u001b[0m\u001b[0;36m6\u001b[0m\u001b[0;34m,\u001b[0m \u001b[0;36m6\u001b[0m\u001b[0;34m)\u001b[0m\u001b[0;34m,\u001b[0m \u001b[0mname\u001b[0m\u001b[0;34m=\u001b[0m\u001b[0;34m'input'\u001b[0m\u001b[0;34m)\u001b[0m\u001b[0;34m)\u001b[0m\u001b[0;34m\u001b[0m\u001b[0;34m\u001b[0m\u001b[0m\n\u001b[1;32m      3\u001b[0m \u001b[0mmodel\u001b[0m\u001b[0;34m.\u001b[0m\u001b[0madd\u001b[0m\u001b[0;34m(\u001b[0m\u001b[0mDropout\u001b[0m\u001b[0;34m(\u001b[0m\u001b[0;36m0.5\u001b[0m\u001b[0;34m)\u001b[0m\u001b[0;34m)\u001b[0m\u001b[0;34m\u001b[0m\u001b[0;34m\u001b[0m\u001b[0m\n\u001b[1;32m      4\u001b[0m \u001b[0mmodel\u001b[0m\u001b[0;34m.\u001b[0m\u001b[0madd\u001b[0m\u001b[0;34m(\u001b[0m\u001b[0mConvolution2D\u001b[0m\u001b[0;34m(\u001b[0m\u001b[0;36m64\u001b[0m\u001b[0;34m,\u001b[0m \u001b[0;36m1\u001b[0m\u001b[0;34m,\u001b[0m \u001b[0;36m1\u001b[0m\u001b[0;34m,\u001b[0m \u001b[0mactivation\u001b[0m\u001b[0;34m=\u001b[0m\u001b[0;34m'relu'\u001b[0m\u001b[0;34m,\u001b[0m \u001b[0msubsample\u001b[0m\u001b[0;34m=\u001b[0m\u001b[0;34m(\u001b[0m\u001b[0;36m1\u001b[0m\u001b[0;34m,\u001b[0m \u001b[0;36m1\u001b[0m\u001b[0;34m)\u001b[0m\u001b[0;34m,\u001b[0m \u001b[0mname\u001b[0m\u001b[0;34m=\u001b[0m\u001b[0;34m'conv_7'\u001b[0m\u001b[0;34m)\u001b[0m\u001b[0;34m)\u001b[0m\u001b[0;34m\u001b[0m\u001b[0;34m\u001b[0m\u001b[0m\n\u001b[1;32m      5\u001b[0m \u001b[0mmodel\u001b[0m\u001b[0;34m.\u001b[0m\u001b[0madd\u001b[0m\u001b[0;34m(\u001b[0m\u001b[0mDropout\u001b[0m\u001b[0;34m(\u001b[0m\u001b[0;36m0.5\u001b[0m\u001b[0;34m)\u001b[0m\u001b[0;34m)\u001b[0m\u001b[0;34m\u001b[0m\u001b[0;34m\u001b[0m\u001b[0m\n",
      "\u001b[0;31mNameError\u001b[0m: name 'Sequential' is not defined"
     ]
    }
   ],
   "source": [
    "model = Sequential()\n",
    "model.add(Convolution2D(64, 6, 6, activation='relu', input_shape=(12, 12, 512), subsample=(6, 6), name='input'))\n",
    "model.add(Dropout(0.5))\n",
    "model.add(Convolution2D(64, 1, 1, activation='relu', subsample=(1, 1), name='conv_7'))\n",
    "model.add(Dropout(0.5))\n",
    "model.add(Convolution2D(64, 1, 1, subsample=(1, 1), name='conv_8'))\n",
    "model.add(AveragePooling2D((2, 2), strides=(1, 1), name='add_pool'))\n",
    "\n",
    "model.add(Flatten(name='flatten'))\n",
    "model.add(Dense(3))\n",
    "model.add(Activation(\"softmax\"))\n",
    "\n",
    "opt = SGD(lr=1e-2)\n",
    "model.compile(loss=\"categorical_crossentropy\", optimizer=opt, metrics=[\"accuracy\"])"
   ]
  },
  {
   "cell_type": "code",
   "execution_count": null,
   "id": "changed-companion",
   "metadata": {},
   "outputs": [],
   "source": []
  },
  {
   "cell_type": "code",
   "execution_count": null,
   "id": "blank-canyon",
   "metadata": {},
   "outputs": [],
   "source": []
  },
  {
   "cell_type": "code",
   "execution_count": null,
   "id": "naughty-vision",
   "metadata": {},
   "outputs": [],
   "source": []
  },
  {
   "cell_type": "code",
   "execution_count": null,
   "id": "intellectual-colombia",
   "metadata": {},
   "outputs": [],
   "source": []
  }
 ],
 "metadata": {
  "kernelspec": {
   "display_name": "Python 3",
   "language": "python",
   "name": "python3"
  },
  "language_info": {
   "codemirror_mode": {
    "name": "ipython",
    "version": 3
   },
   "file_extension": ".py",
   "mimetype": "text/x-python",
   "name": "python",
   "nbconvert_exporter": "python",
   "pygments_lexer": "ipython3",
   "version": "3.7.10"
  }
 },
 "nbformat": 4,
 "nbformat_minor": 5
}
